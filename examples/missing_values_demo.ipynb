{
 "cells": [
  {
   "cell_type": "markdown",
   "metadata": {},
   "source": [
    "# Polars Proc Compare - Missing Values Demo\n",
    "\n",
    "This notebook demonstrates comparing datasets with missing values using polars_proc_compare."
   ]
  },
  {
   "cell_type": "code",
   "execution_count": 1,
   "metadata": {},
   "outputs": [],
   "source": [
    "import polars as pl\n",
    "import numpy as np\n",
    "from pathlib import Path\n",
    "from polars_proc_compare import DataCompare\n",
    "from polars_proc_compare.data_generator import create_delta_dataset"
   ]
  },
  {
   "cell_type": "code",
   "execution_count": 2,
   "metadata": {},
   "outputs": [
    {
     "name": "stdout",
     "output_type": "stream",
     "text": [
      "Base DataFrame shape: (5000, 500)\n",
      "\n",
      "Null counts for first 5 columns:\n",
      "shape: (1, 5)\n",
      "┌─────┬───────┬───────┬───────┬───────┐\n",
      "│ id  ┆ col_1 ┆ col_2 ┆ col_3 ┆ col_4 │\n",
      "│ --- ┆ ---   ┆ ---   ┆ ---   ┆ ---   │\n",
      "│ u32 ┆ u32   ┆ u32   ┆ u32   ┆ u32   │\n",
      "╞═════╪═══════╪═══════╪═══════╪═══════╡\n",
      "│ 0   ┆ 0     ┆ 0     ┆ 0     ┆ 0     │\n",
      "└─────┴───────┴───────┴───────┴───────┘\n"
     ]
    }
   ],
   "source": [
    "# Set random seed for reproducibility\n",
    "np.random.seed(42)\n",
    "\n",
    "# Generate base dataset\n",
    "n_rows = 5000\n",
    "n_cols = 500\n",
    "\n",
    "# Create a key column (no missing values)\n",
    "base_data = {\"id\": range(1, n_rows + 1)}\n",
    "\n",
    "# Generate random data for other columns with missing values\n",
    "for i in range(1, n_cols):\n",
    "    # Generate random values\n",
    "    values = np.random.normal(loc=100, scale=20, size=n_rows)\n",
    "    \n",
    "    # Randomly set some values to None (80% chance of missing for each column)\n",
    "    mask = np.random.random(n_rows) < 0.8\n",
    "    values[mask] = None\n",
    "    \n",
    "    base_data[f\"col_{i}\"] = values\n",
    "\n",
    "# Create base DataFrame\n",
    "base_df = pl.DataFrame(base_data)\n",
    "\n",
    "print(f\"Base DataFrame shape: {base_df.shape}\")\n",
    "print(\"\\nNull counts for first 5 columns:\")\n",
    "print(base_df.select([pl.col(col).null_count() for col in base_df.columns[:5]]))"
   ]
  },
  {
   "cell_type": "code",
   "execution_count": 3,
   "metadata": {},
   "outputs": [
    {
     "name": "stdout",
     "output_type": "stream",
     "text": [
      "Modification Statistics:\n",
      "Total rows: 5000\n",
      "Total columns: 499\n",
      "Modified cells: 124750\n",
      "Modified rows: 5000\n",
      "Number of modified columns: 499\n",
      "Sample modified columns: {'col_1': 250, 'col_2': 250, 'col_3': 250, 'col_4': 250, 'col_5': 250} ...\n",
      "\n",
      "Null counts in compare data (first 5 columns):\n",
      "shape: (1, 5)\n",
      "┌─────┬───────┬───────┬───────┬───────┐\n",
      "│ id  ┆ col_1 ┆ col_2 ┆ col_3 ┆ col_4 │\n",
      "│ --- ┆ ---   ┆ ---   ┆ ---   ┆ ---   │\n",
      "│ u32 ┆ u32   ┆ u32   ┆ u32   ┆ u32   │\n",
      "╞═════╪═══════╪═══════╪═══════╪═══════╡\n",
      "│ 0   ┆ 0     ┆ 0     ┆ 0     ┆ 0     │\n",
      "└─────┴───────┴───────┴───────┴───────┘\n"
     ]
    }
   ],
   "source": [
    "# Create comparison dataset with 5% differences\n",
    "compare_df, modifications = create_delta_dataset(\n",
    "    base_df,\n",
    "    delta_percentage=5.0,\n",
    "    seed=42,\n",
    "    exclude_columns=[\"id\"]  # Don't modify the key column\n",
    ")\n",
    "\n",
    "# Print summary statistics instead of full dictionary\n",
    "print(\"Modification Statistics:\")\n",
    "print(f\"Total rows: {modifications['total_rows']}\")\n",
    "print(f\"Total columns: {modifications['total_columns']}\")\n",
    "print(f\"Modified cells: {modifications['modified_cells']}\")\n",
    "print(f\"Modified rows: {modifications['modified_rows']}\")\n",
    "print(f\"Number of modified columns: {len(modifications['modified_columns'])}\")\n",
    "# Only print first few modified columns as example\n",
    "sample_cols = list(modifications['modified_columns'].items())[:5]\n",
    "print(f\"Sample modified columns: {dict(sample_cols)} ...\")\n",
    "\n",
    "print(\"\\nNull counts in compare data (first 5 columns):\")\n",
    "print(compare_df.select([pl.col(col).null_count() for col in compare_df.columns[:5]]))"
   ]
  },
  {
   "cell_type": "code",
   "execution_count": 4,
   "metadata": {},
   "outputs": [
    {
     "name": "stdout",
     "output_type": "stream",
     "text": [
      "\n",
      "Comparison completed. Check the following files for results:\n",
      "- data/missing_values_comparison.html\n",
      "- data/missing_values_differences.csv\n"
     ]
    }
   ],
   "source": [
    "# Create results directory if it doesn't exist\n",
    "results_dir = Path(\"data\")\n",
    "results_dir.mkdir(exist_ok=True)\n",
    "\n",
    "# Run comparison\n",
    "dc = DataCompare(base_df, compare_df, key_columns=[\"id\"])\n",
    "results = dc.compare()\n",
    "\n",
    "# Generate reports\n",
    "results.to_html(results_dir / \"missing_values_comparison.html\")\n",
    "results.to_csv(results_dir / \"missing_values_differences.csv\")\n",
    "\n",
    "print(\"\\nComparison completed. Check the following files for results:\")\n",
    "print(\"- data/missing_values_comparison.html\")\n",
    "print(\"- data/missing_values_differences.csv\")"
   ]
  },
  {
   "cell_type": "code",
   "execution_count": null,
   "metadata": {},
   "outputs": [],
   "source": []
  }
 ],
 "metadata": {
  "kernelspec": {
   "display_name": "Python 3 (ipykernel)",
   "language": "python",
   "name": "python3"
  },
  "language_info": {
   "codemirror_mode": {
    "name": "ipython",
    "version": 3
   },
   "file_extension": ".py",
   "mimetype": "text/x-python",
   "name": "python",
   "nbconvert_exporter": "python",
   "pygments_lexer": "ipython3",
   "version": "3.12.3"
  }
 },
 "nbformat": 4,
 "nbformat_minor": 4
}
