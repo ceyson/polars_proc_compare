{
 "cells": [
  {
   "cell_type": "markdown",
   "metadata": {},
   "source": [
    "# Polars Proc Compare Example\n",
    "\n",
    "This notebook demonstrates how to use the Polars Proc Compare library to compare datasets."
   ]
  },
  {
   "cell_type": "code",
   "execution_count": 1,
   "metadata": {},
   "outputs": [],
   "source": [
    "import polars as pl\n",
    "from polars_proc_compare import DataCompare\n",
    "from polars_proc_compare.data_generator import create_delta_dataset"
   ]
  },
  {
   "cell_type": "markdown",
   "metadata": {},
   "source": [
    "## Create Sample Datasets\n",
    "\n",
    "First, let's create a sample dataset and a modified version with known differences."
   ]
  },
  {
   "cell_type": "code",
   "execution_count": 2,
   "metadata": {},
   "outputs": [
    {
     "name": "stdout",
     "output_type": "stream",
     "text": [
      "Modification Statistics:\n",
      "total_rows: 1000\n",
      "total_columns: 3\n",
      "total_cells: 3000\n",
      "modified_cells: 150\n",
      "modified_columns: {'value': 43, 'category': 58, 'name': 49}\n",
      "modified_rows: 140\n"
     ]
    }
   ],
   "source": [
    "# Create base dataset\n",
    "base_df = pl.DataFrame({\n",
    "    \"id\": range(1, 1001),\n",
    "    \"name\": [f\"name_{i}\" for i in range(1, 1001)],\n",
    "    \"value\": [float(i) for i in range(1, 1001)],\n",
    "    \"category\": [\"A\" if i % 2 == 0 else \"B\" for i in range(1, 1001)]\n",
    "})\n",
    "\n",
    "# Create comparison dataset with 5% differences\n",
    "compare_df, modifications = create_delta_dataset(\n",
    "    base_df,\n",
    "    delta_percentage=5.0,\n",
    "    seed=42,\n",
    "    exclude_columns=[\"id\"]\n",
    ")\n",
    "\n",
    "print(\"Modification Statistics:\")\n",
    "for key, value in modifications.items():\n",
    "    print(f\"{key}: {value}\")"
   ]
  },
  {
   "cell_type": "markdown",
   "metadata": {},
   "source": [
    "## Compare Datasets\n",
    "\n",
    "Now let's compare the datasets using DataCompare."
   ]
  },
  {
   "cell_type": "code",
   "execution_count": 3,
   "metadata": {},
   "outputs": [
    {
     "name": "stdout",
     "output_type": "stream",
     "text": [
      "\n",
      "Structure Comparison:\n",
      "common_cols: ['id', 'category', 'name', 'value']\n",
      "base_only: []\n",
      "compare_only: []\n",
      "base_schema: OrderedDict({'id': Int64, 'name': Utf8, 'value': Float64, 'category': Utf8})\n",
      "compare_schema: OrderedDict({'id': Int64, 'name': Utf8, 'value': Float64, 'category': Utf8})\n",
      "base_nrows: 1000\n",
      "compare_nrows: 1000\n",
      "base_ncols: 4\n",
      "compare_ncols: 4\n",
      "variable_types: {'id': 'Int64', 'category': 'Utf8', 'name': 'Utf8', 'value': 'Float64'}\n",
      "matched_rows: 1000\n",
      "base_only_rows: 0\n",
      "compare_only_rows: 0\n",
      "\n",
      "Column Statistics:\n",
      "\n",
      "category:\n",
      "  n_differences: 54\n",
      "  first_n_differences: [{'obs': 1, 'base': 'B', 'compare': 'B_modified'}, {'obs': 2, 'base': 'B', 'compare': 'B_modified'}, {'obs': 3, 'base': 'B', 'compare': 'B_modified'}, {'obs': 4, 'base': 'B', 'compare': 'B_modified'}, {'obs': 5, 'base': 'A', 'compare': 'A_modified'}, {'obs': 6, 'base': 'B', 'compare': 'B_modified'}, {'obs': 7, 'base': 'A', 'compare': 'A_modified'}, {'obs': 8, 'base': 'B', 'compare': 'B_modified'}, {'obs': 9, 'base': 'B', 'compare': 'B_modified'}, {'obs': 10, 'base': 'B', 'compare': 'B_modified'}, {'obs': 11, 'base': 'B', 'compare': 'B_modified'}, {'obs': 12, 'base': 'B', 'compare': 'B_modified'}, {'obs': 13, 'base': 'B', 'compare': 'B_modified'}, {'obs': 14, 'base': 'A', 'compare': 'A_modified'}, {'obs': 15, 'base': 'A', 'compare': 'A_modified'}, {'obs': 16, 'base': 'B', 'compare': 'B_modified'}, {'obs': 17, 'base': 'A', 'compare': 'A_modified'}, {'obs': 18, 'base': 'B', 'compare': 'B_modified'}, {'obs': 19, 'base': 'B', 'compare': 'B_modified'}, {'obs': 20, 'base': 'A', 'compare': 'A_modified'}]\n",
      "\n",
      "name:\n",
      "  n_differences: 49\n",
      "  first_n_differences: [{'obs': 1, 'base': 'name_2', 'compare': 'name_2_modified'}, {'obs': 2, 'base': 'name_21', 'compare': 'name_21_modified'}, {'obs': 3, 'base': 'name_35', 'compare': 'name_35_modified'}, {'obs': 4, 'base': 'name_59', 'compare': 'name_59_modified'}, {'obs': 5, 'base': 'name_65', 'compare': 'name_65_modified'}, {'obs': 6, 'base': 'name_72', 'compare': 'name_72_modified'}, {'obs': 7, 'base': 'name_92', 'compare': 'name_92_modified'}, {'obs': 8, 'base': 'name_100', 'compare': 'name_100_modified'}, {'obs': 9, 'base': 'name_106', 'compare': 'name_106_modified'}, {'obs': 10, 'base': 'name_162', 'compare': 'name_162_modified'}, {'obs': 11, 'base': 'name_188', 'compare': 'name_188_modified'}, {'obs': 12, 'base': 'name_202', 'compare': 'name_202_modified'}, {'obs': 13, 'base': 'name_206', 'compare': 'name_206_modified'}, {'obs': 14, 'base': 'name_215', 'compare': 'name_215_modified'}, {'obs': 15, 'base': 'name_242', 'compare': 'name_242_modified'}, {'obs': 16, 'base': 'name_253', 'compare': 'name_253_modified'}, {'obs': 17, 'base': 'name_271', 'compare': 'name_271_modified'}, {'obs': 18, 'base': 'name_277', 'compare': 'name_277_modified'}, {'obs': 19, 'base': 'name_340', 'compare': 'name_340_modified'}, {'obs': 20, 'base': 'name_344', 'compare': 'name_344_modified'}]\n",
      "\n",
      "value:\n",
      "  n_differences: 43\n",
      "  first_n_differences: [{'obs': 1, 'base': '14.0', 'compare': '21.83651528401347', 'abs_diff': 7.836515284013469, 'pct_diff': 55.975109171524785}, {'obs': 2, 'base': '21.0', 'compare': '30.490138512550054', 'abs_diff': 9.490138512550054, 'pct_diff': 45.19113577404787}, {'obs': 3, 'base': '22.0', 'compare': '10.641500799619873', 'abs_diff': -11.358499200380127, 'pct_diff': -51.62954181990966}, {'obs': 4, 'base': '41.0', 'compare': '69.63631966052259', 'abs_diff': 28.636319660522588, 'pct_diff': 69.84468209883558}, {'obs': 5, 'base': '103.0', 'compare': '70.25966831635326', 'abs_diff': -32.740331683646744, 'pct_diff': -31.786729789948293}, {'obs': 6, 'base': '131.0', 'compare': '88.82580525475959', 'abs_diff': -42.17419474524041, 'pct_diff': -32.19404179025986}, {'obs': 7, 'base': '244.0', 'compare': '439.40401189570525', 'abs_diff': 195.40401189570525, 'pct_diff': 80.08361143266609}, {'obs': 8, 'base': '270.0', 'compare': '86.83634776544926', 'abs_diff': -183.16365223455074, 'pct_diff': -67.83838971650027}, {'obs': 9, 'base': '274.0', 'compare': '486.1233604972843', 'abs_diff': 212.1233604972843, 'pct_diff': 77.41728485302346}, {'obs': 10, 'base': '289.0', 'compare': '54.14401580463746', 'abs_diff': -234.85598419536254, 'pct_diff': -81.2650464343815}, {'obs': 11, 'base': '296.0', 'compare': '132.7674312006514', 'abs_diff': -163.2325687993486, 'pct_diff': -55.14613810788804}, {'obs': 12, 'base': '314.0', 'compare': '332.62056320757205', 'abs_diff': 18.620563207572047, 'pct_diff': 5.930115671201289}, {'obs': 13, 'base': '380.0', 'compare': '567.3334678896983', 'abs_diff': 187.33346788969834, 'pct_diff': 49.29828102360483}, {'obs': 14, 'base': '386.0', 'compare': '428.6150265547849', 'abs_diff': 42.61502655478489, 'pct_diff': 11.04016231989246}, {'obs': 15, 'base': '388.0', 'compare': '470.58895029584176', 'abs_diff': 82.58895029584176, 'pct_diff': 21.285811931917976}, {'obs': 16, 'base': '428.0', 'compare': '72.02381003576181', 'abs_diff': -355.9761899642382, 'pct_diff': -83.17200700099023}, {'obs': 17, 'base': '459.0', 'compare': '236.79041424251284', 'abs_diff': -222.20958575748716, 'pct_diff': -48.41167445696888}, {'obs': 18, 'base': '467.0', 'compare': '819.4349560578362', 'abs_diff': 352.4349560578362, 'pct_diff': 75.46787067619618}, {'obs': 19, 'base': '472.0', 'compare': '536.4833215486852', 'abs_diff': 64.48332154868524, 'pct_diff': 13.661720667094329}, {'obs': 20, 'base': '492.0', 'compare': '804.1466449979964', 'abs_diff': 312.1466449979964, 'pct_diff': 63.44444004024318}]\n",
      "  max_diff: 742.9050074144757\n",
      "  mean_diff: 11.943437998679947\n"
     ]
    }
   ],
   "source": [
    "# Create comparison object\n",
    "dc = DataCompare(base_df, compare_df, key_columns=[\"id\"])\n",
    "\n",
    "# Run comparison\n",
    "results = dc.compare()\n",
    "\n",
    "# Generate HTML report\n",
    "results.to_html(\"comparison_report.html\")\n",
    "\n",
    "# Export differences to CSV\n",
    "results.to_csv(\"differences.csv\")\n",
    "\n",
    "# Display structure comparison results\n",
    "print(\"\\nStructure Comparison:\")\n",
    "for key, value in results.structure_results.items():\n",
    "    print(f\"{key}: {value}\")\n",
    "\n",
    "# Display statistics\n",
    "print(\"\\nColumn Statistics:\")\n",
    "for col, stats in results.statistics.items():\n",
    "    print(f\"\\n{col}:\")\n",
    "    for stat_name, stat_value in stats.items():\n",
    "        print(f\"  {stat_name}: {stat_value}\")"
   ]
  },
  {
   "cell_type": "code",
   "execution_count": null,
   "metadata": {},
   "outputs": [],
   "source": []
  }
 ],
 "metadata": {
  "kernelspec": {
   "display_name": "Python 3 (ipykernel)",
   "language": "python",
   "name": "python3"
  },
  "language_info": {
   "codemirror_mode": {
    "name": "ipython",
    "version": 3
   },
   "file_extension": ".py",
   "mimetype": "text/x-python",
   "name": "python",
   "nbconvert_exporter": "python",
   "pygments_lexer": "ipython3",
   "version": "3.12.3"
  }
 },
 "nbformat": 4,
 "nbformat_minor": 4
}
