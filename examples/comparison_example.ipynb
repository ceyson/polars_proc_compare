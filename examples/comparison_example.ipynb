{
 "cells": [
  {
   "cell_type": "markdown",
   "metadata": {},
   "source": [
    "# Polars Proc Compare Example\n",
    "\n",
    "This notebook demonstrates how to use the Polars Proc Compare library to compare datasets."
   ]
  },
  {
   "cell_type": "code",
   "execution_count": 1,
   "metadata": {},
   "outputs": [],
   "source": [
    "import polars as pl\n",
    "from IPython.display import HTML\n",
    "from pathlib import Path\n",
    "from polars_proc_compare import DataCompare\n",
    "from polars_proc_compare.data_generator import create_delta_dataset\n",
    "\n",
    "# Create results directory if it doesn't exist\n",
    "results_dir = Path(\"results\")\n",
    "results_dir.mkdir(exist_ok=True)"
   ]
  },
  {
   "cell_type": "markdown",
   "metadata": {},
   "source": [
    "## Create Sample Datasets\n",
    "\n",
    "First, let's create a sample dataset and a modified version with known differences."
   ]
  },
  {
   "cell_type": "code",
   "execution_count": 2,
   "metadata": {},
   "outputs": [
    {
     "name": "stdout",
     "output_type": "stream",
     "text": [
      "Modification Statistics:\n",
      "total_rows: 1000\n",
      "total_columns: 3\n",
      "total_cells: 3000\n",
      "modified_cells: 150\n",
      "modified_columns: {'value': 43, 'category': 58, 'name': 49}\n",
      "modified_rows: 140\n"
     ]
    }
   ],
   "source": [
    "# Create base dataset\n",
    "base_df = pl.DataFrame({\n",
    "    \"id\": range(1, 1001),\n",
    "    \"name\": [f\"name_{i}\" for i in range(1, 1001)],\n",
    "    \"value\": [float(i) for i in range(1, 1001)],\n",
    "    \"category\": [\"A\" if i % 2 == 0 else \"B\" for i in range(1, 1001)]\n",
    "})\n",
    "\n",
    "# Create comparison dataset with 5% differences\n",
    "compare_df, modifications = create_delta_dataset(\n",
    "    base_df,\n",
    "    delta_percentage=5.0,\n",
    "    seed=42,\n",
    "    exclude_columns=[\"id\"]\n",
    ")\n",
    "\n",
    "print(\"Modification Statistics:\")\n",
    "for key, value in modifications.items():\n",
    "    print(f\"{key}: {value}\")"
   ]
  },
  {
   "cell_type": "markdown",
   "metadata": {},
   "source": [
    "## Compare Datasets\n",
    "\n",
    "Now let's compare the datasets using DataCompare and display the results directly in the notebook."
   ]
  },
  {
   "cell_type": "code",
   "execution_count": 3,
   "metadata": {},
   "outputs": [
    {
     "data": {
      "text/html": [
       "\n",
       "        <!DOCTYPE html>\n",
       "        <html>\n",
       "        <head>\n",
       "            <title>Dataset Comparison Report</title>\n",
       "            <style>\n",
       "                body { font-family: monospace; margin: 20px; }\n",
       "                pre { margin: 0; }\n",
       "                .section { margin-bottom: 30px; white-space: pre; }\n",
       "                .header { \n",
       "                    font-weight: bold; \n",
       "                    margin-top: 20px;\n",
       "                    border-bottom: 1px solid #000;\n",
       "                }\n",
       "                .content {\n",
       "                    padding-left: 20px;\n",
       "                    white-space: pre;\n",
       "                }\n",
       "            </style>\n",
       "        </head>\n",
       "        <body>\n",
       "            <div class=\"section\">\n",
       "                <div class=\"header\">Data Set Summary</div>\n",
       "                <div class=\"content\">\n",
       "Dataset             Observations    Variables\n",
       "Base                     1000               4\n",
       "Compare                 1000               4\n",
       "                </div>\n",
       "            </div>\n",
       "            \n",
       "            <div class=\"section\">\n",
       "                <div class=\"header\">Variables Summary</div>\n",
       "                <div class=\"content\">\n",
       "Number of Variables in Common: 4\n",
       "Number of Variables in Base Only: 0\n",
       "Number of Variables in Compare Only: 0\n",
       "\n",
       "\n",
       "\n",
       "                </div>\n",
       "            </div>\n",
       "\n",
       "            <div class=\"section\">\n",
       "                <div class=\"header\">Observation Summary</div>\n",
       "                <div class=\"content\">\n",
       "Observations in Base:             1000\n",
       "Observations in Compare:         1000\n",
       "Number of Observations in Common:   1000\n",
       "Number of Observations in Base Only:      0\n",
       "Number of Observations in Compare Only:      0\n",
       "                </div>\n",
       "            </div>\n",
       "\n",
       "            <div class=\"section\">\n",
       "                <div class=\"header\">Values Comparison Summary</div>\n",
       "                <div class=\"content\">\n",
       "Number of Variables with Differences: 0\n",
       "Total Number of Differences: 0\n",
       "                </div>\n",
       "            </div>\n",
       "\n",
       "            <div class=\"section\">\n",
       "                <div class=\"header\">Value Comparison Results</div>\n",
       "                <div class=\"content\">\n",
       "\n",
       "                </div>\n",
       "            </div>\n",
       "        </body>\n",
       "        </html>\n",
       "        "
      ],
      "text/plain": [
       "<IPython.core.display.HTML object>"
      ]
     },
     "execution_count": 3,
     "metadata": {},
     "output_type": "execute_result"
    }
   ],
   "source": [
    "# Create comparison object\n",
    "dc = DataCompare(base_df, compare_df, key_columns=[\"id\"])\n",
    "\n",
    "# Run comparison\n",
    "results = dc.compare()\n",
    "\n",
    "# Generate HTML report\n",
    "report_path = results_dir / \"comparison_report.html\"\n",
    "results.to_html(report_path)\n",
    "\n",
    "# Display the HTML report in the notebook\n",
    "HTML(report_path.read_text())"
   ]
  }
 ],
 "metadata": {
  "kernelspec": {
   "display_name": "Python 3 (ipykernel)",
   "language": "python",
   "name": "python3"
  },
  "language_info": {
   "codemirror_mode": {
    "name": "ipython",
    "version": 3
   },
   "file_extension": ".py",
   "mimetype": "text/x-python",
   "name": "python",
   "nbconvert_exporter": "python",
   "pygments_lexer": "ipython3",
   "version": "3.12.3"
  }
 },
 "nbformat": 4,
 "nbformat_minor": 4
}
