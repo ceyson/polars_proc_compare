{
 "cells": [
  {
   "cell_type": "markdown",
   "metadata": {},
   "source": [
    "# Polars Proc Compare Example\n",
    "\n",
    "This notebook demonstrates how to use the Polars Proc Compare library to compare datasets."
   ]
  },
  {
   "cell_type": "code",
   "execution_count": null,
   "metadata": {},
   "source": [
    "import polars as pl\n",
    "from polars_proc_compare import DataCompare\n",
    "from polars_proc_compare.data_generator import create_delta_dataset"
   ]
  },
  {
   "cell_type": "markdown",
   "metadata": {},
   "source": [
    "## Create Sample Datasets\n",
    "\n",
    "First, let's create a sample dataset and a modified version with known differences."
   ]
  },
  {
   "cell_type": "code",
   "execution_count": null,
   "metadata": {},
   "source": [
    "# Create base dataset\n",
    "base_df = pl.DataFrame({\n",
    "    \"id\": range(1, 1001),\n",
    "    \"name\": [f\"name_{i}\" for i in range(1, 1001)],\n",
    "    \"value\": [float(i) for i in range(1, 1001)],\n",
    "    \"category\": [\"A\" if i % 2 == 0 else \"B\" for i in range(1, 1001)]\n",
    "})\n",
    "\n",
    "# Create comparison dataset with 5% differences\n",
    "compare_df, modifications = create_delta_dataset(\n",
    "    base_df,\n",
    "    delta_percentage=5.0,\n",
    "    seed=42,\n",
    "    exclude_columns=[\"id\"]\n",
    ")\n",
    "\n",
    "print(\"Modification Statistics:\")\n",
    "for key, value in modifications.items():\n",
    "    print(f\"{key}: {value}\")"
   ]
  },
  {
   "cell_type": "markdown",
   "metadata": {},
   "source": [
    "## Compare Datasets\n",
    "\n",
    "Now let's compare the datasets using DataCompare."
   ]
  },
  {
   "cell_type": "code",
   "execution_count": null,
   "metadata": {},
   "source": [
    "# Create comparison object\n",
    "dc = DataCompare(base_df, compare_df, key_columns=[\"id\"])\n",
    "\n",
    "# Run comparison\n",
    "results = dc.compare()\n",
    "\n",
    "# Generate HTML report\n",
    "results.to_html(\"comparison_report.html\")\n",
    "\n",
    "# Export differences to CSV\n",
    "results.to_csv(\"differences.csv\")\n",
    "\n",
    "# Display structure comparison results\n",
    "print(\"\\nStructure Comparison:\")\n",
    "for key, value in results.structure_results.items():\n",
    "    print(f\"{key}: {value}\")\n",
    "\n",
    "# Display statistics\n",
    "print(\"\\nColumn Statistics:\")\n",
    "for col, stats in results.statistics.items():\n",
    "    print(f\"\\n{col}:\")\n",
    "    for stat_name, stat_value in stats.items():\n",
    "        print(f\"  {stat_name}: {stat_value}\")"
   ]
  }
 ],
 "metadata": {
  "kernelspec": {
   "display_name": "Python 3",
   "language": "python",
   "name": "python3"
  },
  "language_info": {
   "codemirror_mode": {
    "name": "ipython",
    "version": 3
   },
   "file_extension": ".py",
   "mimetype": "text/x-python",
   "name": "python",
   "nbconvert_exporter": "python",
   "pygments_lexer": "ipython3",
   "version": "3.9.0"
  }
 },
 "nbformat": 4,
 "nbformat_minor": 4
}
